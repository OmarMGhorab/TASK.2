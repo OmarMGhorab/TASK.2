{
 "cells": [
  {
   "cell_type": "code",
   "execution_count": null,
   "id": "cddda1ae",
   "metadata": {},
   "outputs": [],
   "source": [
    "!pip install opencv-python"
   ]
  },
  {
   "cell_type": "code",
   "execution_count": null,
   "id": "fbb86936",
   "metadata": {},
   "outputs": [],
   "source": [
    "import numpy as np\n",
    "import cv2"
   ]
  },
  {
   "cell_type": "code",
   "execution_count": null,
   "id": "02dc0ee1",
   "metadata": {},
   "outputs": [],
   "source": [
    "import numpy as np\n",
    "import cv2\n",
    "\n",
    "photo=cv2.imread(\"C:\\\\Users\\\\Dell\\\\Pictures\\\\Saved Pictures\\\\ghorab.jpg\")\n",
    "kernel_size=(5,5)\n",
    "use_filter=cv2.blur(photo,kernel_size)\n",
    "cv2.imshow('not filter',photo)\n",
    "cv2.imshow('after_filter',use_filter)\n",
    "cv2.waitKey(0)\n",
    "cv2.destroyallWindows"
   ]
  },
  {
   "cell_type": "code",
   "execution_count": null,
   "id": "24b64b2b",
   "metadata": {},
   "outputs": [],
   "source": []
  }
 ],
 "metadata": {
  "kernelspec": {
   "display_name": "Python 3 (ipykernel)",
   "language": "python",
   "name": "python3"
  },
  "language_info": {
   "codemirror_mode": {
    "name": "ipython",
    "version": 3
   },
   "file_extension": ".py",
   "mimetype": "text/x-python",
   "name": "python",
   "nbconvert_exporter": "python",
   "pygments_lexer": "ipython3",
   "version": "3.11.5"
  }
 },
 "nbformat": 4,
 "nbformat_minor": 5
}
